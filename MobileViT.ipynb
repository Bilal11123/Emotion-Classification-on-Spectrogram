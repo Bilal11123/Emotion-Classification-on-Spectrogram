{
  "cells": [
    {
      "cell_type": "code",
      "source": [
        "# Install dependencies\n",
        "!pip install timm einops omegaconf\n",
        "\n",
        "# Clone Apple's CVNets repository (includes MobileViT)\n",
        "!git clone https://github.com/apple/ml-cvnets.git\n",
        "%cd ml-cvnets\n",
        "!pip install -r requirements.txt -c constraints.txt\n",
        "!pip install --editable .\n",
        "\n",
        "# Go back to root dir to avoid path conflicts\n",
        "%cd .."
      ],
      "metadata": {
        "colab": {
          "base_uri": "https://localhost:8080/"
        },
        "collapsed": true,
        "id": "3Nx707YMZxX2",
        "outputId": "875226f1-aeb8-46b5-c467-c9e9dfb3426d"
      },
      "id": "3Nx707YMZxX2",
      "execution_count": null,
      "outputs": [
        {
          "output_type": "stream",
          "name": "stdout",
          "text": [
            "Requirement already satisfied: timm in /usr/local/lib/python3.11/dist-packages (1.0.16)\n",
            "Requirement already satisfied: einops in /usr/local/lib/python3.11/dist-packages (0.8.1)\n",
            "Requirement already satisfied: omegaconf in /usr/local/lib/python3.11/dist-packages (2.3.0)\n",
            "Requirement already satisfied: torch in /usr/local/lib/python3.11/dist-packages (from timm) (2.6.0+cu124)\n",
            "Requirement already satisfied: torchvision in /usr/local/lib/python3.11/dist-packages (from timm) (0.21.0+cu124)\n",
            "Requirement already satisfied: pyyaml in /usr/local/lib/python3.11/dist-packages (from timm) (6.0.2)\n",
            "Requirement already satisfied: huggingface_hub in /usr/local/lib/python3.11/dist-packages (from timm) (0.33.1)\n",
            "Requirement already satisfied: safetensors in /usr/local/lib/python3.11/dist-packages (from timm) (0.5.3)\n",
            "Requirement already satisfied: antlr4-python3-runtime==4.9.* in /usr/local/lib/python3.11/dist-packages (from omegaconf) (4.9.3)\n",
            "Requirement already satisfied: filelock in /usr/local/lib/python3.11/dist-packages (from huggingface_hub->timm) (3.18.0)\n",
            "Requirement already satisfied: fsspec>=2023.5.0 in /usr/local/lib/python3.11/dist-packages (from huggingface_hub->timm) (2025.3.2)\n",
            "Requirement already satisfied: packaging>=20.9 in /usr/local/lib/python3.11/dist-packages (from huggingface_hub->timm) (24.2)\n",
            "Requirement already satisfied: requests in /usr/local/lib/python3.11/dist-packages (from huggingface_hub->timm) (2.32.3)\n",
            "Requirement already satisfied: tqdm>=4.42.1 in /usr/local/lib/python3.11/dist-packages (from huggingface_hub->timm) (4.67.1)\n",
            "Requirement already satisfied: typing-extensions>=3.7.4.3 in /usr/local/lib/python3.11/dist-packages (from huggingface_hub->timm) (4.14.0)\n",
            "Requirement already satisfied: hf-xet<2.0.0,>=1.1.2 in /usr/local/lib/python3.11/dist-packages (from huggingface_hub->timm) (1.1.5)\n",
            "Requirement already satisfied: networkx in /usr/local/lib/python3.11/dist-packages (from torch->timm) (3.5)\n",
            "Requirement already satisfied: jinja2 in /usr/local/lib/python3.11/dist-packages (from torch->timm) (3.1.6)\n",
            "Collecting nvidia-cuda-nvrtc-cu12==12.4.127 (from torch->timm)\n",
            "  Downloading nvidia_cuda_nvrtc_cu12-12.4.127-py3-none-manylinux2014_x86_64.whl.metadata (1.5 kB)\n",
            "Collecting nvidia-cuda-runtime-cu12==12.4.127 (from torch->timm)\n",
            "  Downloading nvidia_cuda_runtime_cu12-12.4.127-py3-none-manylinux2014_x86_64.whl.metadata (1.5 kB)\n",
            "Collecting nvidia-cuda-cupti-cu12==12.4.127 (from torch->timm)\n",
            "  Downloading nvidia_cuda_cupti_cu12-12.4.127-py3-none-manylinux2014_x86_64.whl.metadata (1.6 kB)\n",
            "Collecting nvidia-cudnn-cu12==9.1.0.70 (from torch->timm)\n",
            "  Downloading nvidia_cudnn_cu12-9.1.0.70-py3-none-manylinux2014_x86_64.whl.metadata (1.6 kB)\n",
            "Collecting nvidia-cublas-cu12==12.4.5.8 (from torch->timm)\n",
            "  Downloading nvidia_cublas_cu12-12.4.5.8-py3-none-manylinux2014_x86_64.whl.metadata (1.5 kB)\n",
            "Collecting nvidia-cufft-cu12==11.2.1.3 (from torch->timm)\n",
            "  Downloading nvidia_cufft_cu12-11.2.1.3-py3-none-manylinux2014_x86_64.whl.metadata (1.5 kB)\n",
            "Collecting nvidia-curand-cu12==10.3.5.147 (from torch->timm)\n",
            "  Downloading nvidia_curand_cu12-10.3.5.147-py3-none-manylinux2014_x86_64.whl.metadata (1.5 kB)\n",
            "Collecting nvidia-cusolver-cu12==11.6.1.9 (from torch->timm)\n",
            "  Downloading nvidia_cusolver_cu12-11.6.1.9-py3-none-manylinux2014_x86_64.whl.metadata (1.6 kB)\n",
            "Collecting nvidia-cusparse-cu12==12.3.1.170 (from torch->timm)\n",
            "  Downloading nvidia_cusparse_cu12-12.3.1.170-py3-none-manylinux2014_x86_64.whl.metadata (1.6 kB)\n",
            "Requirement already satisfied: nvidia-cusparselt-cu12==0.6.2 in /usr/local/lib/python3.11/dist-packages (from torch->timm) (0.6.2)\n",
            "Requirement already satisfied: nvidia-nccl-cu12==2.21.5 in /usr/local/lib/python3.11/dist-packages (from torch->timm) (2.21.5)\n",
            "Requirement already satisfied: nvidia-nvtx-cu12==12.4.127 in /usr/local/lib/python3.11/dist-packages (from torch->timm) (12.4.127)\n",
            "Collecting nvidia-nvjitlink-cu12==12.4.127 (from torch->timm)\n",
            "  Downloading nvidia_nvjitlink_cu12-12.4.127-py3-none-manylinux2014_x86_64.whl.metadata (1.5 kB)\n",
            "Requirement already satisfied: triton==3.2.0 in /usr/local/lib/python3.11/dist-packages (from torch->timm) (3.2.0)\n",
            "Requirement already satisfied: sympy==1.13.1 in /usr/local/lib/python3.11/dist-packages (from torch->timm) (1.13.1)\n",
            "Requirement already satisfied: mpmath<1.4,>=1.1.0 in /usr/local/lib/python3.11/dist-packages (from sympy==1.13.1->torch->timm) (1.3.0)\n",
            "Requirement already satisfied: numpy in /usr/local/lib/python3.11/dist-packages (from torchvision->timm) (2.0.2)\n",
            "Requirement already satisfied: pillow!=8.3.*,>=5.3.0 in /usr/local/lib/python3.11/dist-packages (from torchvision->timm) (11.2.1)\n",
            "Requirement already satisfied: MarkupSafe>=2.0 in /usr/local/lib/python3.11/dist-packages (from jinja2->torch->timm) (3.0.2)\n",
            "Requirement already satisfied: charset-normalizer<4,>=2 in /usr/local/lib/python3.11/dist-packages (from requests->huggingface_hub->timm) (3.4.2)\n",
            "Requirement already satisfied: idna<4,>=2.5 in /usr/local/lib/python3.11/dist-packages (from requests->huggingface_hub->timm) (3.10)\n",
            "Requirement already satisfied: urllib3<3,>=1.21.1 in /usr/local/lib/python3.11/dist-packages (from requests->huggingface_hub->timm) (2.4.0)\n",
            "Requirement already satisfied: certifi>=2017.4.17 in /usr/local/lib/python3.11/dist-packages (from requests->huggingface_hub->timm) (2025.6.15)\n",
            "Downloading nvidia_cublas_cu12-12.4.5.8-py3-none-manylinux2014_x86_64.whl (363.4 MB)\n",
            "\u001b[2K   \u001b[90m━━━━━━━━━━━━━━━━━━━━━━━━━━━━━━━━━━━━━━━━\u001b[0m \u001b[32m363.4/363.4 MB\u001b[0m \u001b[31m3.9 MB/s\u001b[0m eta \u001b[36m0:00:00\u001b[0m\n",
            "\u001b[?25hDownloading nvidia_cuda_cupti_cu12-12.4.127-py3-none-manylinux2014_x86_64.whl (13.8 MB)\n",
            "\u001b[2K   \u001b[90m━━━━━━━━━━━━━━━━━━━━━━━━━━━━━━━━━━━━━━━━\u001b[0m \u001b[32m13.8/13.8 MB\u001b[0m \u001b[31m43.8 MB/s\u001b[0m eta \u001b[36m0:00:00\u001b[0m\n",
            "\u001b[?25hDownloading nvidia_cuda_nvrtc_cu12-12.4.127-py3-none-manylinux2014_x86_64.whl (24.6 MB)\n",
            "\u001b[2K   \u001b[90m━━━━━━━━━━━━━━━━━━━━━━━━━━━━━━━━━━━━━━━━\u001b[0m \u001b[32m24.6/24.6 MB\u001b[0m \u001b[31m27.9 MB/s\u001b[0m eta \u001b[36m0:00:00\u001b[0m\n",
            "\u001b[?25hDownloading nvidia_cuda_runtime_cu12-12.4.127-py3-none-manylinux2014_x86_64.whl (883 kB)\n",
            "\u001b[2K   \u001b[90m━━━━━━━━━━━━━━━━━━━━━━━━━━━━━━━━━━━━━━━━\u001b[0m \u001b[32m883.7/883.7 kB\u001b[0m \u001b[31m20.9 MB/s\u001b[0m eta \u001b[36m0:00:00\u001b[0m\n",
            "\u001b[?25hDownloading nvidia_cudnn_cu12-9.1.0.70-py3-none-manylinux2014_x86_64.whl (664.8 MB)\n",
            "\u001b[2K   \u001b[90m━━━━━━━━━━━━━━━━━━━━━━━━━━━━━━━━━━━━━━━━\u001b[0m \u001b[32m664.8/664.8 MB\u001b[0m \u001b[31m2.9 MB/s\u001b[0m eta \u001b[36m0:00:00\u001b[0m\n",
            "\u001b[?25hDownloading nvidia_cufft_cu12-11.2.1.3-py3-none-manylinux2014_x86_64.whl (211.5 MB)\n",
            "\u001b[2K   \u001b[90m━━━━━━━━━━━━━━━━━━━━━━━━━━━━━━━━━━━━━━━━\u001b[0m \u001b[32m211.5/211.5 MB\u001b[0m \u001b[31m6.1 MB/s\u001b[0m eta \u001b[36m0:00:00\u001b[0m\n",
            "\u001b[?25hDownloading nvidia_curand_cu12-10.3.5.147-py3-none-manylinux2014_x86_64.whl (56.3 MB)\n",
            "\u001b[2K   \u001b[90m━━━━━━━━━━━━━━━━━━━━━━━━━━━━━━━━━━━━━━━━\u001b[0m \u001b[32m56.3/56.3 MB\u001b[0m \u001b[31m19.9 MB/s\u001b[0m eta \u001b[36m0:00:00\u001b[0m\n",
            "\u001b[?25hDownloading nvidia_cusolver_cu12-11.6.1.9-py3-none-manylinux2014_x86_64.whl (127.9 MB)\n",
            "\u001b[2K   \u001b[90m━━━━━━━━━━━━━━━━━━━━━━━━━━━━━━━━━━━━━━━━\u001b[0m \u001b[32m127.9/127.9 MB\u001b[0m \u001b[31m7.6 MB/s\u001b[0m eta \u001b[36m0:00:00\u001b[0m\n",
            "\u001b[?25hDownloading nvidia_cusparse_cu12-12.3.1.170-py3-none-manylinux2014_x86_64.whl (207.5 MB)\n",
            "\u001b[2K   \u001b[90m━━━━━━━━━━━━━━━━━━━━━━━━━━━━━━━━━━━━━━━━\u001b[0m \u001b[32m207.5/207.5 MB\u001b[0m \u001b[31m6.2 MB/s\u001b[0m eta \u001b[36m0:00:00\u001b[0m\n",
            "\u001b[?25hDownloading nvidia_nvjitlink_cu12-12.4.127-py3-none-manylinux2014_x86_64.whl (21.1 MB)\n",
            "\u001b[2K   \u001b[90m━━━━━━━━━━━━━━━━━━━━━━━━━━━━━━━━━━━━━━━━\u001b[0m \u001b[32m21.1/21.1 MB\u001b[0m \u001b[31m97.5 MB/s\u001b[0m eta \u001b[36m0:00:00\u001b[0m\n",
            "\u001b[?25hInstalling collected packages: nvidia-nvjitlink-cu12, nvidia-curand-cu12, nvidia-cufft-cu12, nvidia-cuda-runtime-cu12, nvidia-cuda-nvrtc-cu12, nvidia-cuda-cupti-cu12, nvidia-cublas-cu12, nvidia-cusparse-cu12, nvidia-cudnn-cu12, nvidia-cusolver-cu12\n",
            "  Attempting uninstall: nvidia-nvjitlink-cu12\n",
            "    Found existing installation: nvidia-nvjitlink-cu12 12.5.82\n",
            "    Uninstalling nvidia-nvjitlink-cu12-12.5.82:\n",
            "      Successfully uninstalled nvidia-nvjitlink-cu12-12.5.82\n",
            "  Attempting uninstall: nvidia-curand-cu12\n",
            "    Found existing installation: nvidia-curand-cu12 10.3.6.82\n",
            "    Uninstalling nvidia-curand-cu12-10.3.6.82:\n",
            "      Successfully uninstalled nvidia-curand-cu12-10.3.6.82\n",
            "  Attempting uninstall: nvidia-cufft-cu12\n",
            "    Found existing installation: nvidia-cufft-cu12 11.2.3.61\n",
            "    Uninstalling nvidia-cufft-cu12-11.2.3.61:\n",
            "      Successfully uninstalled nvidia-cufft-cu12-11.2.3.61\n",
            "  Attempting uninstall: nvidia-cuda-runtime-cu12\n",
            "    Found existing installation: nvidia-cuda-runtime-cu12 12.5.82\n",
            "    Uninstalling nvidia-cuda-runtime-cu12-12.5.82:\n",
            "      Successfully uninstalled nvidia-cuda-runtime-cu12-12.5.82\n",
            "  Attempting uninstall: nvidia-cuda-nvrtc-cu12\n",
            "    Found existing installation: nvidia-cuda-nvrtc-cu12 12.5.82\n",
            "    Uninstalling nvidia-cuda-nvrtc-cu12-12.5.82:\n",
            "      Successfully uninstalled nvidia-cuda-nvrtc-cu12-12.5.82\n",
            "  Attempting uninstall: nvidia-cuda-cupti-cu12\n",
            "    Found existing installation: nvidia-cuda-cupti-cu12 12.5.82\n",
            "    Uninstalling nvidia-cuda-cupti-cu12-12.5.82:\n",
            "      Successfully uninstalled nvidia-cuda-cupti-cu12-12.5.82\n",
            "  Attempting uninstall: nvidia-cublas-cu12\n",
            "    Found existing installation: nvidia-cublas-cu12 12.5.3.2\n",
            "    Uninstalling nvidia-cublas-cu12-12.5.3.2:\n",
            "      Successfully uninstalled nvidia-cublas-cu12-12.5.3.2\n",
            "  Attempting uninstall: nvidia-cusparse-cu12\n",
            "    Found existing installation: nvidia-cusparse-cu12 12.5.1.3\n",
            "    Uninstalling nvidia-cusparse-cu12-12.5.1.3:\n",
            "      Successfully uninstalled nvidia-cusparse-cu12-12.5.1.3\n",
            "  Attempting uninstall: nvidia-cudnn-cu12\n",
            "    Found existing installation: nvidia-cudnn-cu12 9.3.0.75\n",
            "    Uninstalling nvidia-cudnn-cu12-9.3.0.75:\n",
            "      Successfully uninstalled nvidia-cudnn-cu12-9.3.0.75\n",
            "  Attempting uninstall: nvidia-cusolver-cu12\n",
            "    Found existing installation: nvidia-cusolver-cu12 11.6.3.83\n",
            "    Uninstalling nvidia-cusolver-cu12-11.6.3.83:\n",
            "      Successfully uninstalled nvidia-cusolver-cu12-11.6.3.83\n",
            "Successfully installed nvidia-cublas-cu12-12.4.5.8 nvidia-cuda-cupti-cu12-12.4.127 nvidia-cuda-nvrtc-cu12-12.4.127 nvidia-cuda-runtime-cu12-12.4.127 nvidia-cudnn-cu12-9.1.0.70 nvidia-cufft-cu12-11.2.1.3 nvidia-curand-cu12-10.3.5.147 nvidia-cusolver-cu12-11.6.1.9 nvidia-cusparse-cu12-12.3.1.170 nvidia-nvjitlink-cu12-12.4.127\n",
            "Cloning into 'ml-cvnets'...\n",
            "remote: Enumerating objects: 2078, done.\u001b[K\n",
            "remote: Counting objects: 100% (561/561), done.\u001b[K\n",
            "remote: Compressing objects: 100% (179/179), done.\u001b[K\n",
            "remote: Total 2078 (delta 450), reused 382 (delta 382), pack-reused 1517 (from 1)\u001b[K\n",
            "Receiving objects: 100% (2078/2078), 5.85 MiB | 10.77 MiB/s, done.\n",
            "Resolving deltas: 100% (1186/1186), done.\n",
            "/content/ml-cvnets\n",
            "Collecting psutil (from -r requirements.txt (line 1))\n",
            "  Downloading psutil-5.9.4-cp36-abi3-manylinux_2_12_x86_64.manylinux2010_x86_64.manylinux_2_17_x86_64.manylinux2014_x86_64.whl.metadata (21 kB)\n",
            "Collecting scikit-learn (from -r requirements.txt (line 2))\n",
            "  Downloading scikit_learn-1.2.2-cp311-cp311-manylinux_2_17_x86_64.manylinux2014_x86_64.whl.metadata (11 kB)\n",
            "Requirement already satisfied: scikit-image in /usr/local/lib/python3.11/dist-packages (from -r requirements.txt (line 3)) (0.25.2)\n",
            "Collecting torch (from -r requirements.txt (line 6))\n",
            "  Downloading torch-1.13.0-cp311-cp311-manylinux1_x86_64.whl.metadata (24 kB)\n",
            "\u001b[31mERROR: Cannot install torchvision because these package versions have conflicting dependencies.\u001b[0m\u001b[31m\n",
            "\u001b[0m\n",
            "The conflict is caused by:\n",
            "    The user requested torchvision\n",
            "    The user requested (constraint) torchvision==0.14.0\n",
            "\n",
            "To fix this you could try to:\n",
            "1. loosen the range of package versions you've specified\n",
            "2. remove package versions to allow pip to attempt to solve the dependency conflict\n",
            "\n",
            "\u001b[31mERROR: ResolutionImpossible: for help visit https://pip.pypa.io/en/latest/topics/dependency-resolution/#dealing-with-dependency-conflicts\u001b[0m\u001b[31m\n",
            "\u001b[0mObtaining file:///content/ml-cvnets\n",
            "  Installing build dependencies ... \u001b[?25l\u001b[?25hdone\n",
            "  Checking if build backend supports build_editable ... \u001b[?25l\u001b[?25hdone\n",
            "  Getting requirements to build editable ... \u001b[?25l\u001b[?25hdone\n",
            "  Installing backend dependencies ... \u001b[?25l\u001b[?25hdone\n",
            "  Preparing editable metadata (pyproject.toml) ... \u001b[?25l\u001b[?25hdone\n",
            "Requirement already satisfied: numpy in /usr/local/lib/python3.11/dist-packages (from cvnets==0.3) (2.0.2)\n",
            "Requirement already satisfied: torch in /usr/local/lib/python3.11/dist-packages (from cvnets==0.3) (2.6.0+cu124)\n",
            "Requirement already satisfied: tqdm in /usr/local/lib/python3.11/dist-packages (from cvnets==0.3) (4.67.1)\n",
            "Requirement already satisfied: filelock in /usr/local/lib/python3.11/dist-packages (from torch->cvnets==0.3) (3.18.0)\n",
            "Requirement already satisfied: typing-extensions>=4.10.0 in /usr/local/lib/python3.11/dist-packages (from torch->cvnets==0.3) (4.14.0)\n",
            "Requirement already satisfied: networkx in /usr/local/lib/python3.11/dist-packages (from torch->cvnets==0.3) (3.5)\n",
            "Requirement already satisfied: jinja2 in /usr/local/lib/python3.11/dist-packages (from torch->cvnets==0.3) (3.1.6)\n",
            "Requirement already satisfied: fsspec in /usr/local/lib/python3.11/dist-packages (from torch->cvnets==0.3) (2025.3.2)\n",
            "Requirement already satisfied: nvidia-cuda-nvrtc-cu12==12.4.127 in /usr/local/lib/python3.11/dist-packages (from torch->cvnets==0.3) (12.4.127)\n",
            "Requirement already satisfied: nvidia-cuda-runtime-cu12==12.4.127 in /usr/local/lib/python3.11/dist-packages (from torch->cvnets==0.3) (12.4.127)\n",
            "Requirement already satisfied: nvidia-cuda-cupti-cu12==12.4.127 in /usr/local/lib/python3.11/dist-packages (from torch->cvnets==0.3) (12.4.127)\n",
            "Requirement already satisfied: nvidia-cudnn-cu12==9.1.0.70 in /usr/local/lib/python3.11/dist-packages (from torch->cvnets==0.3) (9.1.0.70)\n",
            "Requirement already satisfied: nvidia-cublas-cu12==12.4.5.8 in /usr/local/lib/python3.11/dist-packages (from torch->cvnets==0.3) (12.4.5.8)\n",
            "Requirement already satisfied: nvidia-cufft-cu12==11.2.1.3 in /usr/local/lib/python3.11/dist-packages (from torch->cvnets==0.3) (11.2.1.3)\n",
            "Requirement already satisfied: nvidia-curand-cu12==10.3.5.147 in /usr/local/lib/python3.11/dist-packages (from torch->cvnets==0.3) (10.3.5.147)\n",
            "Requirement already satisfied: nvidia-cusolver-cu12==11.6.1.9 in /usr/local/lib/python3.11/dist-packages (from torch->cvnets==0.3) (11.6.1.9)\n",
            "Requirement already satisfied: nvidia-cusparse-cu12==12.3.1.170 in /usr/local/lib/python3.11/dist-packages (from torch->cvnets==0.3) (12.3.1.170)\n",
            "Requirement already satisfied: nvidia-cusparselt-cu12==0.6.2 in /usr/local/lib/python3.11/dist-packages (from torch->cvnets==0.3) (0.6.2)\n",
            "Requirement already satisfied: nvidia-nccl-cu12==2.21.5 in /usr/local/lib/python3.11/dist-packages (from torch->cvnets==0.3) (2.21.5)\n",
            "Requirement already satisfied: nvidia-nvtx-cu12==12.4.127 in /usr/local/lib/python3.11/dist-packages (from torch->cvnets==0.3) (12.4.127)\n",
            "Requirement already satisfied: nvidia-nvjitlink-cu12==12.4.127 in /usr/local/lib/python3.11/dist-packages (from torch->cvnets==0.3) (12.4.127)\n",
            "Requirement already satisfied: triton==3.2.0 in /usr/local/lib/python3.11/dist-packages (from torch->cvnets==0.3) (3.2.0)\n",
            "Requirement already satisfied: sympy==1.13.1 in /usr/local/lib/python3.11/dist-packages (from torch->cvnets==0.3) (1.13.1)\n",
            "Requirement already satisfied: mpmath<1.4,>=1.1.0 in /usr/local/lib/python3.11/dist-packages (from sympy==1.13.1->torch->cvnets==0.3) (1.3.0)\n",
            "Requirement already satisfied: MarkupSafe>=2.0 in /usr/local/lib/python3.11/dist-packages (from jinja2->torch->cvnets==0.3) (3.0.2)\n",
            "Building wheels for collected packages: cvnets\n",
            "  Building editable for cvnets (pyproject.toml) ... \u001b[?25l\u001b[?25hdone\n",
            "  Created wheel for cvnets: filename=cvnets-0.3-0.editable-py3-none-any.whl size=4719 sha256=c13542e2e17e7a3150f9ae2d9f197db34afc00857da63d4e6aebed0ca06ffd6c\n",
            "  Stored in directory: /tmp/pip-ephem-wheel-cache-d3syqqth/wheels/a3/6f/ee/b3df10c9e2b02973597c9dac891e31c2cf1887286986246371\n",
            "Successfully built cvnets\n",
            "Installing collected packages: cvnets\n",
            "Successfully installed cvnets-0.3\n",
            "/content\n"
          ]
        }
      ]
    },
    {
      "cell_type": "markdown",
      "source": [
        "## Load Dataset Code by sir"
      ],
      "metadata": {
        "id": "OuzvZychMJNi"
      },
      "id": "OuzvZychMJNi"
    },
    {
      "cell_type": "code",
      "execution_count": null,
      "id": "8fc90981-0026-491d-bb2e-485fd4c8be87",
      "metadata": {
        "id": "8fc90981-0026-491d-bb2e-485fd4c8be87"
      },
      "outputs": [],
      "source": [
        "import os\n",
        "import pandas as pd\n",
        "import torch\n",
        "from torch.utils.data import Dataset, DataLoader, ConcatDataset, Subset\n",
        "from torchvision import transforms, models\n",
        "import torch.nn as nn\n",
        "import torch.optim as optim\n",
        "from PIL import Image\n",
        "import numpy as np\n",
        "import matplotlib.pyplot as plt\n",
        "from sklearn.metrics import confusion_matrix\n",
        "from sklearn.model_selection import train_test_split\n",
        "import seaborn as sns\n",
        "import warnings\n",
        "warnings.filterwarnings('ignore')\n",
        "\n",
        "# === PARAMETERS ===\n",
        "IMG_SIZE = 224\n",
        "BATCH_SIZE = 8\n",
        "EPOCHS = 1\n",
        "NUM_CLASSES = 5  # 5 emotion categories\n",
        "LEARNING_RATE = 1e-4\n",
        "device = torch.device(\"cuda\" if torch.cuda.is_available() else \"cpu\")\n",
        "classes = ['F', 'H', 'Sad', 'S', 'N']\n",
        "# === DATASET CLASS ===\n",
        "class SpectrogramDataset(Dataset):\n",
        "    def __init__(self, csv_path, img_dir, transform=None):\n",
        "        self.df = pd.read_csv(csv_path)\n",
        "        self.img_dir = img_dir\n",
        "        self.transform = transform\n",
        "        self.file_names = self.df['file_name'].values\n",
        "        self.labels = (self.df['label'] - 1).values  # Convert 1-5 to 0-4\n",
        "\n",
        "    def __len__(self):\n",
        "        return len(self.df)\n",
        "\n",
        "    def __getitem__(self, idx):\n",
        "        img_path = os.path.join(self.img_dir, self.file_names[idx])\n",
        "        image = Image.open(img_path).convert(\"RGB\")\n",
        "\n",
        "        img_array = np.array(image)\n",
        "        height, width = img_array.shape[:2]\n",
        "        left_half = img_array[:, :width//2, :]\n",
        "        right_half = img_array[:, width//2:, :]\n",
        "        combined_img = np.vstack((left_half, right_half))\n",
        "        combined_img = Image.fromarray(combined_img)\n",
        "\n",
        "        label = self.labels[idx]\n",
        "\n",
        "        if self.transform:\n",
        "            combined_img = self.transform(combined_img)\n",
        "\n",
        "        return combined_img, label, self.file_names[idx]  # Now returning filename too\n",
        "\n",
        "    def get_labels(self):\n",
        "        return self.labels\n",
        "\n",
        "# Load later\n",
        "#train_dataset = torch.load('train_dataset.pt')\n",
        "#val_dataset = torch.load('val_dataset.pt')\n",
        "#test_dataset = torch.load('test_dataset.pt')\n",
        "# Create data loaders\n",
        "#train_loader = DataLoader(train_dataset, batch_size=BATCH_SIZE, shuffle=True)\n",
        "#val_loader = DataLoader(val_dataset, batch_size=BATCH_SIZE, shuffle=False)\n",
        "#test_loader = DataLoader(test_dataset, batch_size=BATCH_SIZE, shuffle=False)\n",
        "\n",
        "#print(f\"Training set size: {len(train_dataset)}\")\n",
        "#print(f\"Validation set size: {len(val_dataset)}\")\n",
        "#print(f\"Test set size: {len(test_dataset)}\")\n",
        "\n",
        "def load_full_dataset(filename):\n",
        "    data = torch.load(filename)\n",
        "    return data['images'], data['labels'], data['filenames']\n",
        "\n",
        "# Example usage:\n",
        "train_images, train_labels, train_filenames = load_full_dataset('/content/train_dataset_full.pt')\n",
        "val_images, val_labels, val_filenames = load_full_dataset('/content/val_dataset_full.pt')\n",
        "test_images, test_labels, test_filenames = load_full_dataset('/content/test_dataset_full.pt')\n"
      ]
    },
    {
      "cell_type": "markdown",
      "source": [
        "## MobileViT Training"
      ],
      "metadata": {
        "id": "WnZV_R6ifg8r"
      },
      "id": "WnZV_R6ifg8r"
    },
    {
      "cell_type": "code",
      "source": [
        "import torch\n",
        "import torch.nn as nn\n",
        "import torch.optim as optim\n",
        "from torch.utils.data import Dataset, DataLoader\n",
        "from torchvision import transforms\n",
        "import timm\n",
        "import numpy as np\n",
        "from sklearn.metrics import confusion_matrix\n",
        "import seaborn as sns\n",
        "import matplotlib.pyplot as plt\n",
        "from tqdm import tqdm\n",
        "from torch.optim.lr_scheduler import CosineAnnealingLR\n",
        "\n",
        "# === PARAMETERS ===\n",
        "IMG_SIZE = 224\n",
        "BATCH_SIZE = 16\n",
        "EPOCHS = 75\n",
        "NUM_CLASSES = 5\n",
        "LEARNING_RATE = 1e-3\n",
        "PATIENCE = 5\n",
        "device = torch.device(\"cuda\" if torch.cuda.is_available() else \"cpu\")\n",
        "classes = ['F', 'H', 'Sad', 'S', 'N']\n",
        "\n",
        "# === DATA AUGMENTATION ===\n",
        "train_transform = transforms.Compose([\n",
        "    transforms.ToTensor(),\n",
        "    transforms.Normalize(mean=[0.485, 0.456, 0.406], std=[0.229, 0.224, 0.225]),  # ImageNet stats\n",
        "])\n",
        "\n",
        "val_test_transform = transforms.Compose([\n",
        "    transforms.ToTensor(),\n",
        "    transforms.Normalize(mean=[0.485, 0.456, 0.406], std=[0.229, 0.224, 0.225]),\n",
        "])\n",
        "\n",
        "# === WRAPPER DATASET ===\n",
        "class TensorImageDataset(Dataset):\n",
        "    def __init__(self, images, labels, filenames, transform=None):\n",
        "        self.images = images\n",
        "        self.labels = labels\n",
        "        self.filenames = filenames\n",
        "        self.transform = transform\n",
        "\n",
        "    def __len__(self):\n",
        "        return len(self.images)\n",
        "\n",
        "    def __getitem__(self, idx):\n",
        "        image = self.images[idx]\n",
        "        if isinstance(image, torch.Tensor):\n",
        "            image = transforms.ToPILImage()(image)\n",
        "        if self.transform:\n",
        "            image = self.transform(image)\n",
        "        return image, self.labels[idx], self.filenames[idx]\n",
        "\n",
        "# === LOAD DATA ===\n",
        "def load_full_dataset(filename):\n",
        "    data = torch.load(filename)\n",
        "    return data['images'], data['labels'], data['filenames']\n",
        "\n",
        "train_images, train_labels, train_filenames = load_full_dataset('/content/train_dataset_full.pt')\n",
        "val_images, val_labels, val_filenames = load_full_dataset('/content/val_dataset_full.pt')\n",
        "test_images, test_labels, test_filenames = load_full_dataset('/content/test_dataset_full.pt')\n",
        "\n",
        "train_dataset = TensorImageDataset(train_images, train_labels, train_filenames, transform=train_transform)\n",
        "val_dataset = TensorImageDataset(val_images, val_labels, val_filenames, transform=val_test_transform)\n",
        "test_dataset = TensorImageDataset(test_images, test_labels, test_filenames, transform=val_test_transform)\n",
        "\n",
        "train_loader = DataLoader(train_dataset, batch_size=BATCH_SIZE, shuffle=True, num_workers=2)\n",
        "val_loader = DataLoader(val_dataset, batch_size=BATCH_SIZE, shuffle=False, num_workers=2)\n",
        "test_loader = DataLoader(test_dataset, batch_size=BATCH_SIZE, shuffle=False, num_workers=2)\n",
        "\n",
        "# === MODEL ===\n",
        "model = timm.create_model('mobilevit_s', pretrained=True, num_classes=NUM_CLASSES,\n",
        "                         drop_rate=0.2, drop_path_rate=0.1)\n",
        "\n",
        "\n",
        "# Replace the final FC layer with:\n",
        "model.fc = nn.Sequential(\n",
        "    nn.Dropout(0.5),  # Add dropout\n",
        "    nn.Linear(512, 256),  # Smaller intermediate layer\n",
        "    nn.ReLU(),\n",
        "    nn.BatchNorm1d(256),\n",
        "    nn.Linear(256, NUM_CLASSES)\n",
        ")\n",
        "\n",
        "# Freeze layers\n",
        "for name, param in model.named_parameters():\n",
        "    if 'stages.0' in name or 'stages.1' in name or 'stages.2' in name:\n",
        "        param.requires_grad = False\n",
        "\n",
        "\n",
        "# Replace the classification head with a trainable one\n",
        "in_features = model.get_classifier().in_features\n",
        "model.reset_classifier(num_classes=NUM_CLASSES)  # resets the head\n",
        "for param in model.get_classifier().parameters():\n",
        "    param.requires_grad = True  # unfreeze only the head\n",
        "\n",
        "model.to(device)\n",
        "\n",
        "# === LOSS, OPTIMIZER, SCHEDULER ===\n",
        "criterion = nn.CrossEntropyLoss(label_smoothing=0.1)\n",
        "# Only optimize the head\n",
        "# Collect parameter groups with different learning rates\n",
        "head_params = []\n",
        "backbone_params = []\n",
        "\n",
        "for name, param in model.named_parameters():\n",
        "    if param.requires_grad:\n",
        "        if 'fc' in name:\n",
        "            head_params.append(param)\n",
        "        else:\n",
        "            backbone_params.append(param)\n",
        "\n",
        "# Use different learning rates\n",
        "# Update optimizer initialization\n",
        "optimizer = optim.AdamW([\n",
        "    {'params': backbone_params, 'lr': 1e-6, 'weight_decay': 1e-5},\n",
        "    {'params': head_params, 'lr': 1e-4, 'weight_decay': 1e-4}\n",
        "])\n",
        "\n",
        "scheduler = torch.optim.lr_scheduler.ReduceLROnPlateau(optimizer, mode='min', patience=3, factor=0.5, verbose=True)\n",
        "\n",
        "# === TRAINING & VALIDATION ===\n",
        "def train_one_epoch(model, loader, optimizer, criterion):\n",
        "    model.train()\n",
        "    total_loss, correct = 0, 0\n",
        "    for imgs, labels, _ in tqdm(loader, desc=\"Training\"):\n",
        "        imgs, labels = imgs.to(device), labels.to(device)\n",
        "        optimizer.zero_grad()\n",
        "        outputs = model(imgs)\n",
        "        loss = criterion(outputs, labels)\n",
        "        loss.backward()\n",
        "        optimizer.step()\n",
        "        total_loss += loss.item()\n",
        "        correct += (outputs.argmax(1) == labels).sum().item()\n",
        "    return total_loss / len(loader), correct / len(loader.dataset)\n",
        "\n",
        "def evaluate(model, loader, criterion):\n",
        "    model.eval()\n",
        "    total_loss, correct = 0, 0\n",
        "    all_preds, all_labels = [], []\n",
        "    with torch.no_grad():\n",
        "        for imgs, labels, _ in loader:\n",
        "            imgs, labels = imgs.to(device), labels.to(device)\n",
        "            outputs = model(imgs)\n",
        "            loss = criterion(outputs, labels)\n",
        "            total_loss += loss.item()\n",
        "            preds = outputs.argmax(1)\n",
        "            correct += (preds == labels).sum().item()\n",
        "            all_preds.extend(preds.cpu().numpy())\n",
        "            all_labels.extend(labels.cpu().numpy())\n",
        "    return total_loss / len(loader), correct / len(loader.dataset), all_preds, all_labels\n",
        "\n",
        "# === TRAIN LOOP ===\n",
        "best_val_loss = float('inf')\n",
        "patience_counter = 0\n",
        "\n",
        "for epoch in range(EPOCHS):\n",
        "    print(f\"\\nEpoch {epoch+1}/{EPOCHS}\")\n",
        "    if epoch == 40:  # Unfreeze after 10 epochs\n",
        "      for name, param in model.named_parameters():\n",
        "        if 'stages.2' in name:\n",
        "          param.requires_grad = False\n",
        "    if epoch == 46:  # Unfreeze after 10 epochs\n",
        "      for name, param in model.named_parameters():\n",
        "        if 'stages.1' in name or 'stages.2' in name:\n",
        "          param.requires_grad = False\n",
        "    if epoch == 52:  # Unfreeze after 10 epochs\n",
        "      for name, param in model.named_parameters():\n",
        "        if 'stages.0' in name or 'stages.1' in name or 'stages.2' in name:\n",
        "          param.requires_grad = False\n",
        "\n",
        "    train_loss, train_acc = train_one_epoch(model, train_loader, optimizer, criterion)\n",
        "    val_loss, val_acc, _, _ = evaluate(model, val_loader, criterion)\n",
        "\n",
        "    print(f\"Train Loss: {train_loss:.4f} | Acc: {train_acc:.4f}\")\n",
        "    print(f\"Val   Loss: {val_loss:.4f} | Acc: {val_acc:.4f}\")\n",
        "\n",
        "    scheduler.step(val_loss)\n",
        "\n",
        "    if val_loss < best_val_loss:\n",
        "        best_val_loss = val_loss\n",
        "        torch.save(model.state_dict(), 'best_mobilevit.pth')\n",
        "        patience_counter = 0\n",
        "        print(\"✅ Saved best model\")\n",
        ""
      ],
      "metadata": {
        "id": "YVW3mcIP91c-",
        "colab": {
          "base_uri": "https://localhost:8080/"
        },
        "outputId": "ee780bdb-1297-4978-a2d2-0b89cb1ccbb5"
      },
      "id": "YVW3mcIP91c-",
      "execution_count": null,
      "outputs": [
        {
          "output_type": "stream",
          "name": "stdout",
          "text": [
            "\n",
            "Epoch 1/75\n"
          ]
        },
        {
          "output_type": "stream",
          "name": "stderr",
          "text": [
            "Training: 100%|██████████| 41/41 [00:07<00:00,  5.34it/s]\n"
          ]
        },
        {
          "output_type": "stream",
          "name": "stdout",
          "text": [
            "Train Loss: 1.6193 | Acc: 0.2178\n",
            "Val   Loss: 1.6184 | Acc: 0.1358\n",
            "✅ Saved best model\n",
            "\n",
            "Epoch 2/75\n"
          ]
        },
        {
          "output_type": "stream",
          "name": "stderr",
          "text": [
            "Training: 100%|██████████| 41/41 [00:07<00:00,  5.15it/s]\n"
          ]
        },
        {
          "output_type": "stream",
          "name": "stdout",
          "text": [
            "Train Loss: 1.6095 | Acc: 0.2132\n",
            "Val   Loss: 1.6236 | Acc: 0.1605\n",
            "\n",
            "Epoch 3/75\n"
          ]
        },
        {
          "output_type": "stream",
          "name": "stderr",
          "text": [
            "Training: 100%|██████████| 41/41 [00:07<00:00,  5.27it/s]\n"
          ]
        },
        {
          "output_type": "stream",
          "name": "stdout",
          "text": [
            "Train Loss: 1.6069 | Acc: 0.2009\n",
            "Val   Loss: 1.6160 | Acc: 0.1728\n",
            "✅ Saved best model\n",
            "\n",
            "Epoch 4/75\n"
          ]
        },
        {
          "output_type": "stream",
          "name": "stderr",
          "text": [
            "Training: 100%|██████████| 41/41 [00:06<00:00,  6.06it/s]\n"
          ]
        },
        {
          "output_type": "stream",
          "name": "stdout",
          "text": [
            "Train Loss: 1.6024 | Acc: 0.2025\n",
            "Val   Loss: 1.6079 | Acc: 0.2099\n",
            "✅ Saved best model\n",
            "\n",
            "Epoch 5/75\n"
          ]
        },
        {
          "output_type": "stream",
          "name": "stderr",
          "text": [
            "Training: 100%|██████████| 41/41 [00:08<00:00,  5.08it/s]\n"
          ]
        },
        {
          "output_type": "stream",
          "name": "stdout",
          "text": [
            "Train Loss: 1.6087 | Acc: 0.2377\n",
            "Val   Loss: 1.6066 | Acc: 0.2222\n",
            "✅ Saved best model\n",
            "\n",
            "Epoch 6/75\n"
          ]
        },
        {
          "output_type": "stream",
          "name": "stderr",
          "text": [
            "Training: 100%|██████████| 41/41 [00:07<00:00,  5.85it/s]\n"
          ]
        },
        {
          "output_type": "stream",
          "name": "stdout",
          "text": [
            "Train Loss: 1.5905 | Acc: 0.2653\n",
            "Val   Loss: 1.6024 | Acc: 0.2346\n",
            "✅ Saved best model\n",
            "\n",
            "Epoch 7/75\n"
          ]
        },
        {
          "output_type": "stream",
          "name": "stderr",
          "text": [
            "Training: 100%|██████████| 41/41 [00:07<00:00,  5.43it/s]\n"
          ]
        },
        {
          "output_type": "stream",
          "name": "stdout",
          "text": [
            "Train Loss: 1.6055 | Acc: 0.2316\n",
            "Val   Loss: 1.6069 | Acc: 0.2346\n",
            "\n",
            "Epoch 8/75\n"
          ]
        },
        {
          "output_type": "stream",
          "name": "stderr",
          "text": [
            "Training: 100%|██████████| 41/41 [00:07<00:00,  5.18it/s]\n"
          ]
        },
        {
          "output_type": "stream",
          "name": "stdout",
          "text": [
            "Train Loss: 1.5965 | Acc: 0.2485\n",
            "Val   Loss: 1.6011 | Acc: 0.2469\n",
            "✅ Saved best model\n",
            "\n",
            "Epoch 9/75\n"
          ]
        },
        {
          "output_type": "stream",
          "name": "stderr",
          "text": [
            "Training: 100%|██████████| 41/41 [00:06<00:00,  5.88it/s]\n"
          ]
        },
        {
          "output_type": "stream",
          "name": "stdout",
          "text": [
            "Train Loss: 1.5983 | Acc: 0.2224\n",
            "Val   Loss: 1.5901 | Acc: 0.2346\n",
            "✅ Saved best model\n",
            "\n",
            "Epoch 10/75\n"
          ]
        },
        {
          "output_type": "stream",
          "name": "stderr",
          "text": [
            "Training: 100%|██████████| 41/41 [00:07<00:00,  5.20it/s]\n"
          ]
        },
        {
          "output_type": "stream",
          "name": "stdout",
          "text": [
            "Train Loss: 1.5938 | Acc: 0.2377\n",
            "Val   Loss: 1.5965 | Acc: 0.2222\n",
            "\n",
            "Epoch 11/75\n"
          ]
        },
        {
          "output_type": "stream",
          "name": "stderr",
          "text": [
            "Training: 100%|██████████| 41/41 [00:07<00:00,  5.32it/s]\n"
          ]
        },
        {
          "output_type": "stream",
          "name": "stdout",
          "text": [
            "Train Loss: 1.5940 | Acc: 0.2638\n",
            "Val   Loss: 1.5871 | Acc: 0.2346\n",
            "✅ Saved best model\n",
            "\n",
            "Epoch 12/75\n"
          ]
        },
        {
          "output_type": "stream",
          "name": "stderr",
          "text": [
            "Training: 100%|██████████| 41/41 [00:06<00:00,  5.96it/s]\n"
          ]
        },
        {
          "output_type": "stream",
          "name": "stdout",
          "text": [
            "Train Loss: 1.5875 | Acc: 0.2822\n",
            "Val   Loss: 1.5811 | Acc: 0.2593\n",
            "✅ Saved best model\n",
            "\n",
            "Epoch 13/75\n"
          ]
        },
        {
          "output_type": "stream",
          "name": "stderr",
          "text": [
            "Training: 100%|██████████| 41/41 [00:07<00:00,  5.15it/s]\n"
          ]
        },
        {
          "output_type": "stream",
          "name": "stdout",
          "text": [
            "Train Loss: 1.5960 | Acc: 0.2408\n",
            "Val   Loss: 1.5790 | Acc: 0.2593\n",
            "✅ Saved best model\n",
            "\n",
            "Epoch 14/75\n"
          ]
        },
        {
          "output_type": "stream",
          "name": "stderr",
          "text": [
            "Training: 100%|██████████| 41/41 [00:08<00:00,  4.58it/s]\n"
          ]
        },
        {
          "output_type": "stream",
          "name": "stdout",
          "text": [
            "Train Loss: 1.5923 | Acc: 0.2561\n",
            "Val   Loss: 1.5721 | Acc: 0.2469\n",
            "✅ Saved best model\n",
            "\n",
            "Epoch 15/75\n"
          ]
        },
        {
          "output_type": "stream",
          "name": "stderr",
          "text": [
            "Training: 100%|██████████| 41/41 [00:06<00:00,  6.00it/s]\n"
          ]
        },
        {
          "output_type": "stream",
          "name": "stdout",
          "text": [
            "Train Loss: 1.5866 | Acc: 0.2653\n",
            "Val   Loss: 1.5671 | Acc: 0.2716\n",
            "✅ Saved best model\n",
            "\n",
            "Epoch 16/75\n"
          ]
        },
        {
          "output_type": "stream",
          "name": "stderr",
          "text": [
            "Training: 100%|██████████| 41/41 [00:08<00:00,  4.78it/s]\n"
          ]
        },
        {
          "output_type": "stream",
          "name": "stdout",
          "text": [
            "Train Loss: 1.5884 | Acc: 0.2546\n",
            "Val   Loss: 1.5726 | Acc: 0.2593\n",
            "\n",
            "Epoch 17/75\n"
          ]
        },
        {
          "output_type": "stream",
          "name": "stderr",
          "text": [
            "Training: 100%|██████████| 41/41 [00:08<00:00,  5.07it/s]\n"
          ]
        },
        {
          "output_type": "stream",
          "name": "stdout",
          "text": [
            "Train Loss: 1.5808 | Acc: 0.2607\n",
            "Val   Loss: 1.5744 | Acc: 0.2346\n",
            "\n",
            "Epoch 18/75\n"
          ]
        },
        {
          "output_type": "stream",
          "name": "stderr",
          "text": [
            "Training: 100%|██████████| 41/41 [00:07<00:00,  5.49it/s]\n"
          ]
        },
        {
          "output_type": "stream",
          "name": "stdout",
          "text": [
            "Train Loss: 1.5724 | Acc: 0.2669\n",
            "Val   Loss: 1.5696 | Acc: 0.2716\n",
            "\n",
            "Epoch 19/75\n"
          ]
        },
        {
          "output_type": "stream",
          "name": "stderr",
          "text": [
            "Training: 100%|██████████| 41/41 [00:08<00:00,  4.72it/s]\n"
          ]
        },
        {
          "output_type": "stream",
          "name": "stdout",
          "text": [
            "Train Loss: 1.5748 | Acc: 0.2638\n",
            "Val   Loss: 1.5616 | Acc: 0.2346\n",
            "✅ Saved best model\n",
            "\n",
            "Epoch 20/75\n"
          ]
        },
        {
          "output_type": "stream",
          "name": "stderr",
          "text": [
            "Training: 100%|██████████| 41/41 [00:08<00:00,  5.12it/s]\n"
          ]
        },
        {
          "output_type": "stream",
          "name": "stdout",
          "text": [
            "Train Loss: 1.5764 | Acc: 0.2730\n",
            "Val   Loss: 1.5506 | Acc: 0.2593\n",
            "✅ Saved best model\n",
            "\n",
            "Epoch 21/75\n"
          ]
        },
        {
          "output_type": "stream",
          "name": "stderr",
          "text": [
            "Training: 100%|██████████| 41/41 [00:06<00:00,  5.88it/s]\n"
          ]
        },
        {
          "output_type": "stream",
          "name": "stdout",
          "text": [
            "Train Loss: 1.5768 | Acc: 0.2623\n",
            "Val   Loss: 1.5392 | Acc: 0.2840\n",
            "✅ Saved best model\n",
            "\n",
            "Epoch 22/75\n"
          ]
        },
        {
          "output_type": "stream",
          "name": "stderr",
          "text": [
            "Training: 100%|██████████| 41/41 [00:07<00:00,  5.15it/s]\n"
          ]
        },
        {
          "output_type": "stream",
          "name": "stdout",
          "text": [
            "Train Loss: 1.5689 | Acc: 0.2745\n",
            "Val   Loss: 1.5346 | Acc: 0.2346\n",
            "✅ Saved best model\n",
            "\n",
            "Epoch 23/75\n"
          ]
        },
        {
          "output_type": "stream",
          "name": "stderr",
          "text": [
            "Training: 100%|██████████| 41/41 [00:07<00:00,  5.52it/s]\n"
          ]
        },
        {
          "output_type": "stream",
          "name": "stdout",
          "text": [
            "Train Loss: 1.5757 | Acc: 0.2776\n",
            "Val   Loss: 1.5424 | Acc: 0.2593\n",
            "\n",
            "Epoch 24/75\n"
          ]
        },
        {
          "output_type": "stream",
          "name": "stderr",
          "text": [
            "Training: 100%|██████████| 41/41 [00:07<00:00,  5.59it/s]\n"
          ]
        },
        {
          "output_type": "stream",
          "name": "stdout",
          "text": [
            "Train Loss: 1.5712 | Acc: 0.2807\n",
            "Val   Loss: 1.5381 | Acc: 0.2099\n",
            "\n",
            "Epoch 25/75\n"
          ]
        },
        {
          "output_type": "stream",
          "name": "stderr",
          "text": [
            "Training: 100%|██████████| 41/41 [00:08<00:00,  5.11it/s]\n"
          ]
        },
        {
          "output_type": "stream",
          "name": "stdout",
          "text": [
            "Train Loss: 1.5634 | Acc: 0.2822\n",
            "Val   Loss: 1.5397 | Acc: 0.2716\n",
            "\n",
            "Epoch 26/75\n"
          ]
        },
        {
          "output_type": "stream",
          "name": "stderr",
          "text": [
            "Training: 100%|██████████| 41/41 [00:07<00:00,  5.85it/s]\n"
          ]
        },
        {
          "output_type": "stream",
          "name": "stdout",
          "text": [
            "Train Loss: 1.5613 | Acc: 0.2745\n",
            "Val   Loss: 1.5424 | Acc: 0.3086\n",
            "\n",
            "Epoch 27/75\n"
          ]
        },
        {
          "output_type": "stream",
          "name": "stderr",
          "text": [
            "Training: 100%|██████████| 41/41 [00:10<00:00,  4.06it/s]\n"
          ]
        },
        {
          "output_type": "stream",
          "name": "stdout",
          "text": [
            "Train Loss: 1.5480 | Acc: 0.3083\n",
            "Val   Loss: 1.5366 | Acc: 0.3210\n",
            "\n",
            "Epoch 28/75\n"
          ]
        },
        {
          "output_type": "stream",
          "name": "stderr",
          "text": [
            "Training: 100%|██████████| 41/41 [00:10<00:00,  3.79it/s]\n"
          ]
        },
        {
          "output_type": "stream",
          "name": "stdout",
          "text": [
            "Train Loss: 1.5585 | Acc: 0.2807\n",
            "Val   Loss: 1.5454 | Acc: 0.2840\n",
            "\n",
            "Epoch 29/75\n"
          ]
        },
        {
          "output_type": "stream",
          "name": "stderr",
          "text": [
            "Training: 100%|██████████| 41/41 [00:11<00:00,  3.67it/s]\n"
          ]
        },
        {
          "output_type": "stream",
          "name": "stdout",
          "text": [
            "Train Loss: 1.5698 | Acc: 0.2546\n",
            "Val   Loss: 1.5337 | Acc: 0.3580\n",
            "✅ Saved best model\n",
            "\n",
            "Epoch 30/75\n"
          ]
        },
        {
          "output_type": "stream",
          "name": "stderr",
          "text": [
            "Training: 100%|██████████| 41/41 [00:10<00:00,  3.88it/s]\n"
          ]
        },
        {
          "output_type": "stream",
          "name": "stdout",
          "text": [
            "Train Loss: 1.5427 | Acc: 0.3129\n",
            "Val   Loss: 1.5420 | Acc: 0.3333\n",
            "\n",
            "Epoch 31/75\n"
          ]
        },
        {
          "output_type": "stream",
          "name": "stderr",
          "text": [
            "Training: 100%|██████████| 41/41 [00:08<00:00,  4.68it/s]\n"
          ]
        },
        {
          "output_type": "stream",
          "name": "stdout",
          "text": [
            "Train Loss: 1.5373 | Acc: 0.3390\n",
            "Val   Loss: 1.5311 | Acc: 0.3580\n",
            "✅ Saved best model\n",
            "\n",
            "Epoch 32/75\n"
          ]
        },
        {
          "output_type": "stream",
          "name": "stderr",
          "text": [
            "Training: 100%|██████████| 41/41 [00:09<00:00,  4.41it/s]\n"
          ]
        },
        {
          "output_type": "stream",
          "name": "stdout",
          "text": [
            "Train Loss: 1.5740 | Acc: 0.2592\n",
            "Val   Loss: 1.5352 | Acc: 0.3580\n",
            "\n",
            "Epoch 33/75\n"
          ]
        },
        {
          "output_type": "stream",
          "name": "stderr",
          "text": [
            "Training: 100%|██████████| 41/41 [00:10<00:00,  3.73it/s]\n"
          ]
        },
        {
          "output_type": "stream",
          "name": "stdout",
          "text": [
            "Train Loss: 1.5453 | Acc: 0.2807\n",
            "Val   Loss: 1.5342 | Acc: 0.3333\n",
            "\n",
            "Epoch 34/75\n"
          ]
        },
        {
          "output_type": "stream",
          "name": "stderr",
          "text": [
            "Training: 100%|██████████| 41/41 [00:10<00:00,  3.95it/s]\n"
          ]
        },
        {
          "output_type": "stream",
          "name": "stdout",
          "text": [
            "Train Loss: 1.5413 | Acc: 0.3006\n",
            "Val   Loss: 1.5339 | Acc: 0.3580\n",
            "\n",
            "Epoch 35/75\n"
          ]
        },
        {
          "output_type": "stream",
          "name": "stderr",
          "text": [
            "Training: 100%|██████████| 41/41 [00:10<00:00,  4.09it/s]\n"
          ]
        },
        {
          "output_type": "stream",
          "name": "stdout",
          "text": [
            "Train Loss: 1.5417 | Acc: 0.3067\n",
            "Val   Loss: 1.5321 | Acc: 0.3457\n",
            "\n",
            "Epoch 36/75\n"
          ]
        },
        {
          "output_type": "stream",
          "name": "stderr",
          "text": [
            "Training: 100%|██████████| 41/41 [00:10<00:00,  4.06it/s]\n"
          ]
        },
        {
          "output_type": "stream",
          "name": "stdout",
          "text": [
            "Train Loss: 1.5460 | Acc: 0.2929\n",
            "Val   Loss: 1.5429 | Acc: 0.3333\n",
            "\n",
            "Epoch 37/75\n"
          ]
        },
        {
          "output_type": "stream",
          "name": "stderr",
          "text": [
            "Training: 100%|██████████| 41/41 [00:11<00:00,  3.54it/s]\n"
          ]
        },
        {
          "output_type": "stream",
          "name": "stdout",
          "text": [
            "Train Loss: 1.5452 | Acc: 0.3098\n",
            "Val   Loss: 1.5358 | Acc: 0.3580\n",
            "\n",
            "Epoch 38/75\n"
          ]
        },
        {
          "output_type": "stream",
          "name": "stderr",
          "text": [
            "Training: 100%|██████████| 41/41 [00:11<00:00,  3.59it/s]\n"
          ]
        },
        {
          "output_type": "stream",
          "name": "stdout",
          "text": [
            "Train Loss: 1.5552 | Acc: 0.2791\n",
            "Val   Loss: 1.5254 | Acc: 0.3333\n",
            "✅ Saved best model\n",
            "\n",
            "Epoch 39/75\n"
          ]
        },
        {
          "output_type": "stream",
          "name": "stderr",
          "text": [
            "Training: 100%|██████████| 41/41 [00:08<00:00,  4.56it/s]\n"
          ]
        },
        {
          "output_type": "stream",
          "name": "stdout",
          "text": [
            "Train Loss: 1.5564 | Acc: 0.2837\n",
            "Val   Loss: 1.5416 | Acc: 0.3457\n",
            "\n",
            "Epoch 40/75\n"
          ]
        },
        {
          "output_type": "stream",
          "name": "stderr",
          "text": [
            "Training: 100%|██████████| 41/41 [00:08<00:00,  4.60it/s]\n"
          ]
        },
        {
          "output_type": "stream",
          "name": "stdout",
          "text": [
            "Train Loss: 1.5658 | Acc: 0.2914\n",
            "Val   Loss: 1.5360 | Acc: 0.3333\n",
            "\n",
            "Epoch 41/75\n"
          ]
        },
        {
          "output_type": "stream",
          "name": "stderr",
          "text": [
            "Training: 100%|██████████| 41/41 [00:10<00:00,  3.91it/s]\n"
          ]
        },
        {
          "output_type": "stream",
          "name": "stdout",
          "text": [
            "Train Loss: 1.5457 | Acc: 0.3052\n",
            "Val   Loss: 1.5371 | Acc: 0.3333\n",
            "\n",
            "Epoch 42/75\n"
          ]
        },
        {
          "output_type": "stream",
          "name": "stderr",
          "text": [
            "Training: 100%|██████████| 41/41 [00:10<00:00,  3.86it/s]\n"
          ]
        },
        {
          "output_type": "stream",
          "name": "stdout",
          "text": [
            "Train Loss: 1.5427 | Acc: 0.2975\n",
            "Val   Loss: 1.5319 | Acc: 0.3457\n",
            "\n",
            "Epoch 43/75\n"
          ]
        },
        {
          "output_type": "stream",
          "name": "stderr",
          "text": [
            "Training: 100%|██████████| 41/41 [00:08<00:00,  4.92it/s]\n"
          ]
        },
        {
          "output_type": "stream",
          "name": "stdout",
          "text": [
            "Train Loss: 1.5414 | Acc: 0.2945\n",
            "Val   Loss: 1.5381 | Acc: 0.3457\n",
            "\n",
            "Epoch 44/75\n"
          ]
        },
        {
          "output_type": "stream",
          "name": "stderr",
          "text": [
            "Training: 100%|██████████| 41/41 [00:07<00:00,  5.72it/s]\n"
          ]
        },
        {
          "output_type": "stream",
          "name": "stdout",
          "text": [
            "Train Loss: 1.5558 | Acc: 0.2807\n",
            "Val   Loss: 1.5320 | Acc: 0.3580\n",
            "\n",
            "Epoch 45/75\n"
          ]
        },
        {
          "output_type": "stream",
          "name": "stderr",
          "text": [
            "Training: 100%|██████████| 41/41 [00:08<00:00,  4.89it/s]\n"
          ]
        },
        {
          "output_type": "stream",
          "name": "stdout",
          "text": [
            "Train Loss: 1.5529 | Acc: 0.3006\n",
            "Val   Loss: 1.5442 | Acc: 0.3210\n",
            "\n",
            "Epoch 46/75\n"
          ]
        },
        {
          "output_type": "stream",
          "name": "stderr",
          "text": [
            "Training: 100%|██████████| 41/41 [00:08<00:00,  5.00it/s]\n"
          ]
        },
        {
          "output_type": "stream",
          "name": "stdout",
          "text": [
            "Train Loss: 1.5340 | Acc: 0.3006\n",
            "Val   Loss: 1.5332 | Acc: 0.3580\n",
            "\n",
            "Epoch 47/75\n"
          ]
        },
        {
          "output_type": "stream",
          "name": "stderr",
          "text": [
            "Training: 100%|██████████| 41/41 [00:07<00:00,  5.74it/s]\n"
          ]
        },
        {
          "output_type": "stream",
          "name": "stdout",
          "text": [
            "Train Loss: 1.5409 | Acc: 0.3037\n",
            "Val   Loss: 1.5313 | Acc: 0.3457\n",
            "\n",
            "Epoch 48/75\n"
          ]
        },
        {
          "output_type": "stream",
          "name": "stderr",
          "text": [
            "Training: 100%|██████████| 41/41 [00:08<00:00,  5.03it/s]\n"
          ]
        },
        {
          "output_type": "stream",
          "name": "stdout",
          "text": [
            "Train Loss: 1.5483 | Acc: 0.2791\n",
            "Val   Loss: 1.5246 | Acc: 0.3457\n",
            "✅ Saved best model\n",
            "\n",
            "Epoch 49/75\n"
          ]
        },
        {
          "output_type": "stream",
          "name": "stderr",
          "text": [
            "Training: 100%|██████████| 41/41 [00:08<00:00,  5.07it/s]\n"
          ]
        },
        {
          "output_type": "stream",
          "name": "stdout",
          "text": [
            "Train Loss: 1.5405 | Acc: 0.3160\n",
            "Val   Loss: 1.5214 | Acc: 0.3580\n",
            "✅ Saved best model\n",
            "\n",
            "Epoch 50/75\n"
          ]
        },
        {
          "output_type": "stream",
          "name": "stderr",
          "text": [
            "Training: 100%|██████████| 41/41 [00:07<00:00,  5.13it/s]\n"
          ]
        },
        {
          "output_type": "stream",
          "name": "stdout",
          "text": [
            "Train Loss: 1.5382 | Acc: 0.2868\n",
            "Val   Loss: 1.5371 | Acc: 0.3333\n",
            "\n",
            "Epoch 51/75\n"
          ]
        },
        {
          "output_type": "stream",
          "name": "stderr",
          "text": [
            "Training: 100%|██████████| 41/41 [00:09<00:00,  4.55it/s]\n"
          ]
        },
        {
          "output_type": "stream",
          "name": "stdout",
          "text": [
            "Train Loss: 1.5292 | Acc: 0.3328\n",
            "Val   Loss: 1.5355 | Acc: 0.3333\n",
            "\n",
            "Epoch 52/75\n"
          ]
        },
        {
          "output_type": "stream",
          "name": "stderr",
          "text": [
            "Training: 100%|██████████| 41/41 [00:08<00:00,  5.01it/s]\n"
          ]
        },
        {
          "output_type": "stream",
          "name": "stdout",
          "text": [
            "Train Loss: 1.5558 | Acc: 0.2822\n",
            "Val   Loss: 1.5233 | Acc: 0.3457\n",
            "\n",
            "Epoch 53/75\n"
          ]
        },
        {
          "output_type": "stream",
          "name": "stderr",
          "text": [
            "Training: 100%|██████████| 41/41 [00:07<00:00,  5.81it/s]\n"
          ]
        },
        {
          "output_type": "stream",
          "name": "stdout",
          "text": [
            "Train Loss: 1.5555 | Acc: 0.2684\n",
            "Val   Loss: 1.5362 | Acc: 0.3457\n",
            "\n",
            "Epoch 54/75\n"
          ]
        },
        {
          "output_type": "stream",
          "name": "stderr",
          "text": [
            "Training: 100%|██████████| 41/41 [00:08<00:00,  4.64it/s]\n"
          ]
        },
        {
          "output_type": "stream",
          "name": "stdout",
          "text": [
            "Train Loss: 1.5496 | Acc: 0.2791\n",
            "Val   Loss: 1.5355 | Acc: 0.3457\n",
            "\n",
            "Epoch 55/75\n"
          ]
        },
        {
          "output_type": "stream",
          "name": "stderr",
          "text": [
            "Training: 100%|██████████| 41/41 [00:08<00:00,  4.93it/s]\n"
          ]
        },
        {
          "output_type": "stream",
          "name": "stdout",
          "text": [
            "Train Loss: 1.5247 | Acc: 0.3083\n",
            "Val   Loss: 1.5381 | Acc: 0.3333\n",
            "\n",
            "Epoch 56/75\n"
          ]
        },
        {
          "output_type": "stream",
          "name": "stderr",
          "text": [
            "Training: 100%|██████████| 41/41 [00:07<00:00,  5.74it/s]\n"
          ]
        },
        {
          "output_type": "stream",
          "name": "stdout",
          "text": [
            "Train Loss: 1.5360 | Acc: 0.2914\n",
            "Val   Loss: 1.5375 | Acc: 0.3333\n",
            "\n",
            "Epoch 57/75\n"
          ]
        },
        {
          "output_type": "stream",
          "name": "stderr",
          "text": [
            "Training: 100%|██████████| 41/41 [00:08<00:00,  5.04it/s]\n"
          ]
        },
        {
          "output_type": "stream",
          "name": "stdout",
          "text": [
            "Train Loss: 1.5419 | Acc: 0.3098\n",
            "Val   Loss: 1.5383 | Acc: 0.3333\n",
            "\n",
            "Epoch 58/75\n"
          ]
        },
        {
          "output_type": "stream",
          "name": "stderr",
          "text": [
            "Training: 100%|██████████| 41/41 [00:08<00:00,  4.96it/s]\n"
          ]
        },
        {
          "output_type": "stream",
          "name": "stdout",
          "text": [
            "Train Loss: 1.5477 | Acc: 0.2975\n",
            "Val   Loss: 1.5403 | Acc: 0.3580\n",
            "\n",
            "Epoch 59/75\n"
          ]
        },
        {
          "output_type": "stream",
          "name": "stderr",
          "text": [
            "Training: 100%|██████████| 41/41 [00:07<00:00,  5.66it/s]\n"
          ]
        },
        {
          "output_type": "stream",
          "name": "stdout",
          "text": [
            "Train Loss: 1.5394 | Acc: 0.3006\n",
            "Val   Loss: 1.5269 | Acc: 0.3333\n",
            "\n",
            "Epoch 60/75\n"
          ]
        },
        {
          "output_type": "stream",
          "name": "stderr",
          "text": [
            "Training: 100%|██████████| 41/41 [00:08<00:00,  4.93it/s]\n"
          ]
        },
        {
          "output_type": "stream",
          "name": "stdout",
          "text": [
            "Train Loss: 1.5193 | Acc: 0.3298\n",
            "Val   Loss: 1.5419 | Acc: 0.3457\n",
            "\n",
            "Epoch 61/75\n"
          ]
        },
        {
          "output_type": "stream",
          "name": "stderr",
          "text": [
            "Training: 100%|██████████| 41/41 [00:08<00:00,  5.09it/s]\n"
          ]
        },
        {
          "output_type": "stream",
          "name": "stdout",
          "text": [
            "Train Loss: 1.5495 | Acc: 0.3067\n",
            "Val   Loss: 1.5355 | Acc: 0.3457\n",
            "\n",
            "Epoch 62/75\n"
          ]
        },
        {
          "output_type": "stream",
          "name": "stderr",
          "text": [
            "Training: 100%|██████████| 41/41 [00:09<00:00,  4.36it/s]\n"
          ]
        },
        {
          "output_type": "stream",
          "name": "stdout",
          "text": [
            "Train Loss: 1.5403 | Acc: 0.3190\n",
            "Val   Loss: 1.5318 | Acc: 0.3457\n",
            "\n",
            "Epoch 63/75\n"
          ]
        },
        {
          "output_type": "stream",
          "name": "stderr",
          "text": [
            "Training: 100%|██████████| 41/41 [00:07<00:00,  5.16it/s]\n"
          ]
        },
        {
          "output_type": "stream",
          "name": "stdout",
          "text": [
            "Train Loss: 1.5412 | Acc: 0.3021\n",
            "Val   Loss: 1.5260 | Acc: 0.3210\n",
            "\n",
            "Epoch 64/75\n"
          ]
        },
        {
          "output_type": "stream",
          "name": "stderr",
          "text": [
            "Training: 100%|██████████| 41/41 [00:08<00:00,  4.97it/s]\n"
          ]
        },
        {
          "output_type": "stream",
          "name": "stdout",
          "text": [
            "Train Loss: 1.5496 | Acc: 0.2638\n",
            "Val   Loss: 1.5395 | Acc: 0.3333\n",
            "\n",
            "Epoch 65/75\n"
          ]
        },
        {
          "output_type": "stream",
          "name": "stderr",
          "text": [
            "Training: 100%|██████████| 41/41 [00:07<00:00,  5.77it/s]\n"
          ]
        },
        {
          "output_type": "stream",
          "name": "stdout",
          "text": [
            "Train Loss: 1.5499 | Acc: 0.2761\n",
            "Val   Loss: 1.5257 | Acc: 0.3580\n",
            "\n",
            "Epoch 66/75\n"
          ]
        },
        {
          "output_type": "stream",
          "name": "stderr",
          "text": [
            "Training: 100%|██████████| 41/41 [00:08<00:00,  4.88it/s]\n"
          ]
        },
        {
          "output_type": "stream",
          "name": "stdout",
          "text": [
            "Train Loss: 1.5533 | Acc: 0.2745\n",
            "Val   Loss: 1.5370 | Acc: 0.3457\n",
            "\n",
            "Epoch 67/75\n"
          ]
        },
        {
          "output_type": "stream",
          "name": "stderr",
          "text": [
            "Training: 100%|██████████| 41/41 [00:08<00:00,  4.97it/s]\n"
          ]
        },
        {
          "output_type": "stream",
          "name": "stdout",
          "text": [
            "Train Loss: 1.5505 | Acc: 0.3006\n",
            "Val   Loss: 1.5344 | Acc: 0.3580\n",
            "\n",
            "Epoch 68/75\n"
          ]
        },
        {
          "output_type": "stream",
          "name": "stderr",
          "text": [
            "Training: 100%|██████████| 41/41 [00:07<00:00,  5.82it/s]\n"
          ]
        },
        {
          "output_type": "stream",
          "name": "stdout",
          "text": [
            "Train Loss: 1.5447 | Acc: 0.2991\n",
            "Val   Loss: 1.5317 | Acc: 0.3457\n",
            "\n",
            "Epoch 69/75\n"
          ]
        },
        {
          "output_type": "stream",
          "name": "stderr",
          "text": [
            "Training: 100%|██████████| 41/41 [00:08<00:00,  4.98it/s]\n"
          ]
        },
        {
          "output_type": "stream",
          "name": "stdout",
          "text": [
            "Train Loss: 1.5470 | Acc: 0.3144\n",
            "Val   Loss: 1.5238 | Acc: 0.3457\n",
            "\n",
            "Epoch 70/75\n"
          ]
        },
        {
          "output_type": "stream",
          "name": "stderr",
          "text": [
            "Training: 100%|██████████| 41/41 [00:08<00:00,  4.95it/s]\n"
          ]
        },
        {
          "output_type": "stream",
          "name": "stdout",
          "text": [
            "Train Loss: 1.5479 | Acc: 0.3129\n",
            "Val   Loss: 1.5239 | Acc: 0.3333\n",
            "\n",
            "Epoch 71/75\n"
          ]
        },
        {
          "output_type": "stream",
          "name": "stderr",
          "text": [
            "Training: 100%|██████████| 41/41 [00:07<00:00,  5.72it/s]\n"
          ]
        },
        {
          "output_type": "stream",
          "name": "stdout",
          "text": [
            "Train Loss: 1.5445 | Acc: 0.3098\n",
            "Val   Loss: 1.5278 | Acc: 0.3457\n",
            "\n",
            "Epoch 72/75\n"
          ]
        },
        {
          "output_type": "stream",
          "name": "stderr",
          "text": [
            "Training: 100%|██████████| 41/41 [00:08<00:00,  4.89it/s]\n"
          ]
        },
        {
          "output_type": "stream",
          "name": "stdout",
          "text": [
            "Train Loss: 1.5311 | Acc: 0.3221\n",
            "Val   Loss: 1.5311 | Acc: 0.3210\n",
            "\n",
            "Epoch 73/75\n"
          ]
        },
        {
          "output_type": "stream",
          "name": "stderr",
          "text": [
            "Training: 100%|██████████| 41/41 [00:08<00:00,  4.97it/s]\n"
          ]
        },
        {
          "output_type": "stream",
          "name": "stdout",
          "text": [
            "Train Loss: 1.5516 | Acc: 0.3083\n",
            "Val   Loss: 1.5256 | Acc: 0.3457\n",
            "\n",
            "Epoch 74/75\n"
          ]
        },
        {
          "output_type": "stream",
          "name": "stderr",
          "text": [
            "Training: 100%|██████████| 41/41 [00:07<00:00,  5.68it/s]\n"
          ]
        },
        {
          "output_type": "stream",
          "name": "stdout",
          "text": [
            "Train Loss: 1.5485 | Acc: 0.2914\n",
            "Val   Loss: 1.5342 | Acc: 0.3580\n",
            "\n",
            "Epoch 75/75\n"
          ]
        },
        {
          "output_type": "stream",
          "name": "stderr",
          "text": [
            "Training: 100%|██████████| 41/41 [00:08<00:00,  4.61it/s]\n"
          ]
        },
        {
          "output_type": "stream",
          "name": "stdout",
          "text": [
            "Train Loss: 1.5417 | Acc: 0.3221\n",
            "Val   Loss: 1.5358 | Acc: 0.3333\n"
          ]
        }
      ]
    },
    {
      "cell_type": "markdown",
      "source": [
        "## Testing"
      ],
      "metadata": {
        "id": "yCztMAOLIkYF"
      },
      "id": "yCztMAOLIkYF"
    },
    {
      "cell_type": "code",
      "source": [
        "# === TEST EVALUATION ===\n",
        "_, test_acc, test_preds, test_labels_np = evaluate(model, test_loader, criterion)\n",
        "print(f\"\\n🧪 Test Accuracy of latest model: {test_acc:.4f}\")\n",
        "torch.save(model.state_dict(), 'latest_mobilevit.pth')\n",
        "\n",
        "model.load_state_dict(torch.load('best_mobilevit.pth'))\n",
        "_, test_acc, test_preds, test_labels_np = evaluate(model, test_loader, criterion)\n",
        "print(f\"\\n🧪 Test Accuracy of best model: {test_acc:.4f}\")"
      ],
      "metadata": {
        "colab": {
          "base_uri": "https://localhost:8080/"
        },
        "id": "63E9sRFqOLmp",
        "outputId": "1af10d7a-b8c1-4920-b12b-7a3094620839"
      },
      "id": "63E9sRFqOLmp",
      "execution_count": null,
      "outputs": [
        {
          "output_type": "stream",
          "name": "stdout",
          "text": [
            "\n",
            "🧪 Test baoo Accuracy of latest model: 0.4146\n",
            "\n",
            "🧪 Test Accuracy of best model: 0.3293\n"
          ]
        }
      ]
    },
    {
      "cell_type": "markdown",
      "source": [
        "## Confusion Matrix"
      ],
      "metadata": {
        "id": "uhgeKoSCIo6p"
      },
      "id": "uhgeKoSCIo6p"
    },
    {
      "cell_type": "code",
      "source": [
        "model.load_state_dict(torch.load('latest_mobilevit.pth'))\n",
        "_, test_acc, test_preds, test_labels_np = evaluate(model, test_loader, criterion)\n",
        "print(f\"\\n🧪 Test Accuracy of best model: {test_acc:.4f}\")\n",
        "\n",
        "import pandas as pd\n",
        "import seaborn as sns\n",
        "import matplotlib.pyplot as plt\n",
        "from sklearn.metrics import classification_report, confusion_matrix\n",
        "# === CONFUSION MATRIX ===\n",
        "cm_multi = confusion_matrix(test_labels_np, test_preds)\n",
        "cm_multi_df = pd.DataFrame(cm_multi, index=classes, columns=classes)\n",
        "print(\"\\nMulti-class Confusion Matrix:\")\n",
        "print(cm_multi_df)\n",
        "\n",
        "plt.figure(figsize=(8, 6))\n",
        "sns.heatmap(cm_multi, annot=True, fmt='d', cmap='Blues',\n",
        "            xticklabels=classes,\n",
        "            yticklabels=classes)\n",
        "plt.xlabel('Predicted')\n",
        "plt.ylabel('Actual')\n",
        "plt.title('Multi-class Confusion Matrix')\n",
        "plt.show()"
      ],
      "metadata": {
        "colab": {
          "base_uri": "https://localhost:8080/",
          "height": 738
        },
        "id": "7Y9GTmo7OS8W",
        "outputId": "7652362f-99ae-4946-994b-e6812f3d9205"
      },
      "id": "7Y9GTmo7OS8W",
      "execution_count": null,
      "outputs": [
        {
          "output_type": "stream",
          "name": "stdout",
          "text": [
            "\n",
            "🧪 Test Accuracy of best model: 0.4146\n",
            "\n",
            "Multi-class Confusion Matrix:\n",
            "     F  H  Sad  S   N\n",
            "F    3  3    2  5   3\n",
            "H    2  7    1  0   7\n",
            "Sad  2  3    1  4   6\n",
            "S    0  7    0  7   2\n",
            "N    0  1    0  0  16\n"
          ]
        },
        {
          "output_type": "display_data",
          "data": {
            "text/plain": [
              "<Figure size 800x600 with 2 Axes>"
            ],
            "image/png": "[encoded data removed]"
          },
          "metadata": {}
        }
      ]
    },
    {
      "cell_type": "markdown",
      "source": [
        "## Classification Report"
      ],
      "metadata": {
        "id": "7TG9zH3NItv1"
      },
      "id": "7TG9zH3NItv1"
    },
    {
      "cell_type": "code",
      "source": [
        "# === CLASSIFICATION REPORT ===\n",
        "print(\"\\nDetailed Classification Report:\")\n",
        "print(classification_report(test_labels_np, test_preds, target_names=classes))\n",
        "\n",
        "# === CLASS-WISE ACCURACY ===\n",
        "class_accuracy = cm_multi.diagonal() / cm_multi.sum(axis=1)\n",
        "print(\"\\nClass-wise Accuracy:\")\n",
        "for class_name, acc in zip(classes, class_accuracy):\n",
        "    print(f\"{class_name}: {acc:.2%}\")  # Format as percentage\n",
        "\n",
        "# Optional: Create a combined metrics dataframe\n",
        "report = classification_report(test_labels_np, test_preds, target_names=classes, output_dict=True)\n",
        "report_df = pd.DataFrame(report).transpose()\n",
        "report_df['accuracy'] = None  # Add empty column\n",
        "report_df.loc[classes, 'accuracy'] = class_accuracy  # Fill class accuracies\n",
        "\n",
        "print(\"\\nCombined Metrics Report:\")\n",
        "print(report_df)"
      ],
      "metadata": {
        "colab": {
          "base_uri": "https://localhost:8080/"
        },
        "id": "R38gMuV8fHgK",
        "outputId": "28868ac3-5a56-4515-998b-086088785363"
      },
      "id": "R38gMuV8fHgK",
      "execution_count": null,
      "outputs": [
        {
          "output_type": "stream",
          "name": "stdout",
          "text": [
            "\n",
            "Detailed Classification Report:\n",
            "              precision    recall  f1-score   support\n",
            "\n",
            "           F       0.43      0.19      0.26        16\n",
            "           H       0.33      0.41      0.37        17\n",
            "         Sad       0.25      0.06      0.10        16\n",
            "           S       0.44      0.44      0.44        16\n",
            "           N       0.47      0.94      0.63        17\n",
            "\n",
            "    accuracy                           0.41        82\n",
            "   macro avg       0.38      0.41      0.36        82\n",
            "weighted avg       0.38      0.41      0.36        82\n",
            "\n",
            "\n",
            "Class-wise Accuracy:\n",
            "F: 18.75%\n",
            "H: 41.18%\n",
            "Sad: 6.25%\n",
            "S: 43.75%\n",
            "N: 94.12%\n",
            "\n",
            "Combined Metrics Report:\n",
            "              precision    recall  f1-score    support  accuracy\n",
            "F              0.428571  0.187500  0.260870  16.000000    0.1875\n",
            "H              0.333333  0.411765  0.368421  17.000000  0.411765\n",
            "Sad            0.250000  0.062500  0.100000  16.000000    0.0625\n",
            "S              0.437500  0.437500  0.437500  16.000000    0.4375\n",
            "N              0.470588  0.941176  0.627451  17.000000  0.941176\n",
            "accuracy       0.414634  0.414634  0.414634   0.414634      None\n",
            "macro avg      0.383999  0.408088  0.358848  82.000000      None\n",
            "weighted avg   0.384437  0.414634  0.362241  82.000000      None\n"
          ]
        }
      ]
    },
    {
      "cell_type": "markdown",
      "source": [
        "## Accuracy and loss Graphs"
      ],
      "metadata": {
        "id": "Y7XuUvUvIzTR"
      },
      "id": "Y7XuUvUvIzTR"
    },
    {
      "cell_type": "code",
      "source": [
        "import matplotlib.pyplot as plt\n",
        "\n",
        "epochs = list(range(1, 76))  # Epoch numbers (1-75)\n",
        "\n",
        "train_loss = [\n",
        "    1.6193, 1.6095, 1.6069, 1.6024, 1.6087, 1.5905, 1.6055, 1.5965, 1.5983, 1.5938,\n",
        "    1.5940, 1.5875, 1.5960, 1.5923, 1.5866, 1.5884, 1.5808, 1.5724, 1.5748, 1.5764,\n",
        "    1.5768, 1.5689, 1.5757, 1.5712, 1.5634, 1.5613, 1.5480, 1.5585, 1.5698, 1.5427,\n",
        "    1.5373, 1.5740, 1.5453, 1.5413, 1.5417, 1.5460, 1.5452, 1.5552, 1.5564, 1.5658,\n",
        "    1.5457, 1.5427, 1.5414, 1.5558, 1.5529, 1.5340, 1.5409, 1.5483, 1.5405, 1.5382,\n",
        "    1.5292, 1.5558, 1.5555, 1.5496, 1.5247, 1.5360, 1.5419, 1.5477, 1.5394, 1.5193,\n",
        "    1.5495, 1.5403, 1.5412, 1.5496, 1.5499, 1.5533, 1.5505, 1.5447, 1.5470, 1.5479,\n",
        "    1.5445, 1.5311, 1.5516, 1.5485, 1.5417\n",
        "]\n",
        "\n",
        "train_acc = [\n",
        "    0.2178, 0.2132, 0.2009, 0.2025, 0.2377, 0.2653, 0.2316, 0.2485, 0.2224, 0.2377,\n",
        "    0.2638, 0.2822, 0.2408, 0.2561, 0.2653, 0.2546, 0.2607, 0.2669, 0.2638, 0.2730,\n",
        "    0.2623, 0.2745, 0.2776, 0.2807, 0.2822, 0.2745, 0.3083, 0.2807, 0.2546, 0.3129,\n",
        "    0.3390, 0.2592, 0.2807, 0.3006, 0.3067, 0.2929, 0.3098, 0.2791, 0.2837, 0.2914,\n",
        "    0.3052, 0.2975, 0.2945, 0.2807, 0.3006, 0.3006, 0.3037, 0.2791, 0.3160, 0.2868,\n",
        "    0.3328, 0.2822, 0.2684, 0.2791, 0.3083, 0.2914, 0.3098, 0.2975, 0.3006, 0.3298,\n",
        "    0.3067, 0.3190, 0.3021, 0.2638, 0.2761, 0.2745, 0.3006, 0.2991, 0.3144, 0.3129,\n",
        "    0.3098, 0.3221, 0.3083, 0.2914, 0.3221\n",
        "]\n",
        "\n",
        "val_loss = [\n",
        "    1.6184, 1.6236, 1.6160, 1.6079, 1.6066, 1.6024, 1.6069, 1.6011, 1.5901, 1.5965,\n",
        "    1.5871, 1.5811, 1.5790, 1.5721, 1.5671, 1.5726, 1.5744, 1.5696, 1.5616, 1.5506,\n",
        "    1.5392, 1.5346, 1.5424, 1.5381, 1.5397, 1.5424, 1.5366, 1.5454, 1.5337, 1.5420,\n",
        "    1.5311, 1.5352, 1.5342, 1.5339, 1.5321, 1.5429, 1.5358, 1.5254, 1.5416, 1.5360,\n",
        "    1.5371, 1.5319, 1.5381, 1.5320, 1.5442, 1.5332, 1.5313, 1.5246, 1.5214, 1.5371,\n",
        "    1.5355, 1.5233, 1.5362, 1.5355, 1.5381, 1.5375, 1.5383, 1.5403, 1.5269, 1.5419,\n",
        "    1.5355, 1.5318, 1.5260, 1.5395, 1.5257, 1.5370, 1.5344, 1.5317, 1.5238, 1.5239,\n",
        "    1.5278, 1.5311, 1.5256, 1.5342, 1.5358\n",
        "]\n",
        "\n",
        "val_acc = [\n",
        "    0.1358, 0.1605, 0.1728, 0.2099, 0.2222, 0.2346, 0.2346, 0.2469, 0.2346, 0.2222,\n",
        "    0.2346, 0.2593, 0.2593, 0.2469, 0.2716, 0.2593, 0.2346, 0.2716, 0.2346, 0.2593,\n",
        "    0.2840, 0.2346, 0.2593, 0.2099, 0.2716, 0.3086, 0.3210, 0.2840, 0.3580, 0.3333,\n",
        "    0.3580, 0.3580, 0.3333, 0.3580, 0.3457, 0.3333, 0.3580, 0.3333, 0.3457, 0.3333,\n",
        "    0.3333, 0.3457, 0.3457, 0.3580, 0.3210, 0.3580, 0.3457, 0.3457, 0.3580, 0.3333,\n",
        "    0.3333, 0.3457, 0.3457, 0.3457, 0.3333, 0.3333, 0.3333, 0.3580, 0.3333, 0.3457,\n",
        "    0.3457, 0.3457, 0.3210, 0.3333, 0.3580, 0.3457, 0.3580, 0.3457, 0.3457, 0.3333,\n",
        "    0.3457, 0.3210, 0.3457, 0.3580, 0.3333\n",
        "]\n",
        "\n",
        "# Plotting\n",
        "plt.figure(figsize=(12, 6))\n",
        "plt.plot(epochs, train_acc, label='Train Accuracy', color='blue', marker='o')\n",
        "plt.plot(epochs, val_acc, label='Validation Accuracy', color='orange', linestyle='--', marker='x')\n",
        "plt.xlabel('Epoch')\n",
        "plt.ylabel('Accuracy')\n",
        "plt.title('Training and Validation Accuracy Over Epochs')\n",
        "plt.legend()\n",
        "plt.grid(True)\n",
        "plt.tight_layout()\n",
        "plt.show()\n",
        "\n",
        "plt.figure(figsize=(12, 6))\n",
        "plt.plot(epochs, train_loss, label='Train Loss', color='blue', marker='o')\n",
        "plt.plot(epochs, val_loss, label='Validation Loss', color='orange', linestyle='--', marker='x')\n",
        "plt.xlabel('Epoch')\n",
        "plt.ylabel('Loss')\n",
        "plt.title('Training and Validation Loss Over Epochs')\n",
        "plt.legend()\n",
        "plt.grid(True)\n",
        "plt.tight_layout()\n",
        "plt.show()\n"
      ],
      "metadata": {
        "colab": {
          "base_uri": "https://localhost:8080/",
          "height": 867
        },
        "id": "oNSQFaG3fMta",
        "outputId": "477265bf-6fc7-4a87-ed11-d914f3c5958b"
      },
      "id": "oNSQFaG3fMta",
      "execution_count": null,
      "outputs": [
        {
          "output_type": "display_data",
          "data": {
            "text/plain": [
              "<Figure size 1200x600 with 1 Axes>"
            ],
            "image/png": "[encoded data removed]"
          },
          "metadata": {}
        },
        {
          "output_type": "display_data",
          "data": {
            "text/plain": [
              "<Figure size 1200x600 with 1 Axes>"
            ],
            "image/png": "[encoded data removed]"
          },
          "metadata": {}
        }
      ]
    },
    {
      "cell_type": "code",
      "source": [],
      "metadata": {
        "id": "LjDGdH22gFca"
      },
      "id": "LjDGdH22gFca",
      "execution_count": null,
      "outputs": []
    }
  ],
  "metadata": {
    "kernelspec": {
      "display_name": "Python 3",
      "name": "python3"
    },
    "language_info": {
      "codemirror_mode": {
        "name": "ipython",
        "version": 3
      },
      "file_extension": ".py",
      "mimetype": "text/x-python",
      "name": "python",
      "nbconvert_exporter": "python",
      "pygments_lexer": "ipython3",
      "version": "3.8.20"
    },
    "colab": {
      "provenance": [],
      "collapsed_sections": [
        "OuzvZychMJNi",
        "08664e45-8bb0-4ea0-8dba-894e037fe224",
        "xt1eL5kcMoqv",
        "NHlRzgmaXgE1",
        "NYz-IUrma7uU",
        "YXNtziEFn-nP",
        "G3kG5cdMkPRu",
        "qyip4j5MY7sE",
        "3_ewtMb-dCme",
        "sHnhsDyQeq2d",
        "s1trrzMukpCt",
        "p-Sjq9_MyqTE"
      ],
      "gpuType": "T4"
    },
    "accelerator": "GPU"
  },
  "nbformat": 4,
  "nbformat_minor": 5
}